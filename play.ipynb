{
 "cells": [
  {
   "cell_type": "code",
   "execution_count": null,
   "metadata": {},
   "outputs": [],
   "source": []
  },
  {
   "cell_type": "markdown",
   "metadata": {},
   "source": [
    "Sure, let's start with some basic pandas operations. First, you need to import the pandas library and read the CSV file into a DataFrame. Here are some common operations you can perform:\n",
    "\n",
    "1. **Import pandas and read the CSV file:**\n"
   ]
  },
  {
   "cell_type": "code",
   "execution_count": 4,
   "metadata": {},
   "outputs": [],
   "source": [
    "import pandas as pd\n",
    "\n",
    "# Read the CSV file into a DataFrame\n",
    "ecb_df = pd.read_csv(\"ServiceCodes_ECB.csv\")"
   ]
  },
  {
   "cell_type": "markdown",
   "metadata": {},
   "source": [
    "\n",
    "\n",
    "2. **Display the first few rows of the DataFrame:**\n"
   ]
  },
  {
   "cell_type": "code",
   "execution_count": 5,
   "metadata": {},
   "outputs": [
    {
     "name": "stdout",
     "output_type": "stream",
     "text": [
      "            SPA Service Code   Record Desc    Charge  Stop Date New Charge  \\\n",
      "0  8155SYS TOT         DF001  IA V/D MODEM   $12.00       13120   $ 12.50    \n",
      "1  8155SYS TOT         DF003  L-RNTXI/XVEQ   $12.00       13120   $ 12.50    \n",
      "2  8155SYS TOT         DF004  RNTXVONLYEQ    $12.00       13120   $ 12.50    \n",
      "3  8155SYS TOT         DF006  HMPT1LEMTCHN   $12.00       13120   $ 12.50    \n",
      "4  8155SYS TOT         DF012  L-RNTXI/XVEQ   $12.00       13120   $ 12.50    \n",
      "\n",
      "   System  Prin Agent  \n",
      "0    8155  SYS    TOT  \n",
      "1    8155  SYS    TOT  \n",
      "2    8155  SYS    TOT  \n",
      "3    8155  SYS    TOT  \n",
      "4    8155  SYS    TOT  \n"
     ]
    }
   ],
   "source": [
    "print(ecb_df.head())"
   ]
  },
  {
   "cell_type": "markdown",
   "metadata": {},
   "source": [
    "\n",
    "\n",
    "3. **Get summary statistics of the DataFrame:**\n"
   ]
  },
  {
   "cell_type": "code",
   "execution_count": 6,
   "metadata": {},
   "outputs": [
    {
     "name": "stdout",
     "output_type": "stream",
     "text": [
      "       Stop Date   System\n",
      "count    28222.0  28222.0\n",
      "mean     13120.0   8155.0\n",
      "std          0.0      0.0\n",
      "min      13120.0   8155.0\n",
      "25%      13120.0   8155.0\n",
      "50%      13120.0   8155.0\n",
      "75%      13120.0   8155.0\n",
      "max      13120.0   8155.0\n"
     ]
    }
   ],
   "source": [
    "print(ecb_df.describe())"
   ]
  },
  {
   "cell_type": "markdown",
   "metadata": {},
   "source": [
    "\n",
    "\n",
    "4. **Display the column names:**\n"
   ]
  },
  {
   "cell_type": "code",
   "execution_count": 7,
   "metadata": {},
   "outputs": [
    {
     "name": "stdout",
     "output_type": "stream",
     "text": [
      "Index(['SPA', 'Service Code', 'Record Desc', 'Charge', 'Stop Date',\n",
      "       'New Charge', 'System', 'Prin', 'Agent'],\n",
      "      dtype='object')\n"
     ]
    }
   ],
   "source": [
    "print(ecb_df.columns)"
   ]
  },
  {
   "cell_type": "markdown",
   "metadata": {},
   "source": [
    "\n",
    "\n",
    "5. **Filter rows based on a condition:**\n"
   ]
  },
  {
   "cell_type": "code",
   "execution_count": 10,
   "metadata": {},
   "outputs": [
    {
     "name": "stdout",
     "output_type": "stream",
     "text": [
      "                SPA Service Code   Record Desc    Charge  Stop Date  \\\n",
      "0      8155SYS TOT         DF001  IA V/D MODEM   $12.00       13120   \n",
      "91     81557000TOT         DF001  IA V/D MODEM   $12.00       13120   \n",
      "176    815570000070        DF001  IA V/D MODEM   $12.00       13120   \n",
      "261    815570000060        DF001  IA V/D MODEM   $12.00       13120   \n",
      "346    815570000050        DF001  IA V/D MODEM   $12.00       13120   \n",
      "...             ...          ...           ...       ...        ...   \n",
      "27465  815510000060        DF001  IA V/D MODEM   $12.00       13120   \n",
      "27553  815510000050        DF001  IA V/D MODEM   $12.00       13120   \n",
      "27641  815510000040        DF001  IA V/D MODEM   $12.00       13120   \n",
      "27729  815510000030        DF001  IA V/D MODEM   $12.00       13120   \n",
      "27815  815510000020        DF001  IA V/D MODEM   $12.00       13120   \n",
      "\n",
      "      New Charge  System  Prin Agent  \n",
      "0       $ 12.50     8155  SYS    TOT  \n",
      "91      $ 12.50     8155  7000   TOT  \n",
      "176     $ 12.50     8155  7000  0070  \n",
      "261     $ 12.50     8155  7000  0060  \n",
      "346     $ 12.50     8155  7000  0050  \n",
      "...          ...     ...   ...   ...  \n",
      "27465   $ 12.50     8155  1000  0060  \n",
      "27553   $ 12.50     8155  1000  0050  \n",
      "27641   $ 12.50     8155  1000  0040  \n",
      "27729   $ 12.50     8155  1000  0030  \n",
      "27815   $ 12.50     8155  1000  0020  \n",
      "\n",
      "[315 rows x 9 columns]\n"
     ]
    }
   ],
   "source": [
    "# Example: Filter rows where 'service_code' is 'ABC123'\n",
    "filtered_df = ecb_df[ecb_df[\"Service Code\"] == \"DF001\"]\n",
    "print(filtered_df)"
   ]
  },
  {
   "cell_type": "markdown",
   "metadata": {},
   "source": [
    "\n",
    "\n",
    "6. **Group by a column and get the mean of each group:**\n"
   ]
  },
  {
   "cell_type": "code",
   "execution_count": 12,
   "metadata": {},
   "outputs": [
    {
     "name": "stdout",
     "output_type": "stream",
     "text": [
      "Service Code\n",
      "DF001    8155.0\n",
      "DF003    8155.0\n",
      "DF004    8155.0\n",
      "DF006    8155.0\n",
      "DF012    8155.0\n",
      "          ...  \n",
      "VP227    8155.0\n",
      "VP293    8155.0\n",
      "VP324    8155.0\n",
      "VP347    8155.0\n",
      "VTL06    8155.0\n",
      "Name: System, Length: 103, dtype: float64\n"
     ]
    }
   ],
   "source": [
    "# Example: Group by 'service_code' and get the mean of 'tar_value'\n",
    "grouped_df = ecb_df.groupby(\"Service Code\")[\"System\"].mean()\n",
    "print(grouped_df)"
   ]
  },
  {
   "cell_type": "markdown",
   "metadata": {},
   "source": [
    "\n",
    "\n",
    "7. **Add a new column based on existing columns:**\n"
   ]
  },
  {
   "cell_type": "code",
   "execution_count": 13,
   "metadata": {},
   "outputs": [
    {
     "name": "stdout",
     "output_type": "stream",
     "text": [
      "            SPA Service Code   Record Desc    Charge  Stop Date New Charge  \\\n",
      "0  8155SYS TOT         DF001  IA V/D MODEM   $12.00       13120   $ 12.50    \n",
      "1  8155SYS TOT         DF003  L-RNTXI/XVEQ   $12.00       13120   $ 12.50    \n",
      "2  8155SYS TOT         DF004  RNTXVONLYEQ    $12.00       13120   $ 12.50    \n",
      "3  8155SYS TOT         DF006  HMPT1LEMTCHN   $12.00       13120   $ 12.50    \n",
      "4  8155SYS TOT         DF012  L-RNTXI/XVEQ   $12.00       13120   $ 12.50    \n",
      "\n",
      "   System  Prin Agent  difference  \n",
      "0    8155  SYS    TOT       -4965  \n",
      "1    8155  SYS    TOT       -4965  \n",
      "2    8155  SYS    TOT       -4965  \n",
      "3    8155  SYS    TOT       -4965  \n",
      "4    8155  SYS    TOT       -4965  \n"
     ]
    }
   ],
   "source": [
    "# Example: Add a new column 'difference' which is the difference between 'tar_value' and 'ecb_value'\n",
    "ecb_df[\"difference\"] = ecb_df[\"System\"] - ecb_df[\"Stop Date\"]\n",
    "print(ecb_df.head())"
   ]
  },
  {
   "cell_type": "markdown",
   "metadata": {},
   "source": [
    "\n",
    "\n",
    "8. **Save the modified DataFrame to a new CSV file:**\n"
   ]
  },
  {
   "cell_type": "code",
   "execution_count": 14,
   "metadata": {},
   "outputs": [],
   "source": [
    "ecb_df.to_csv(\"Modified_ServiceCodes_ECB.csv\", index=False)"
   ]
  },
  {
   "cell_type": "markdown",
   "metadata": {},
   "source": [
    "\n",
    "\n",
    "These are some basic operations you can perform using pandas. Let me know if you need help with any specific operation or if you have any other questions!"
   ]
  }
 ],
 "metadata": {
  "kernelspec": {
   "display_name": "Python 3",
   "language": "python",
   "name": "python3"
  },
  "language_info": {
   "codemirror_mode": {
    "name": "ipython",
    "version": 3
   },
   "file_extension": ".py",
   "mimetype": "text/x-python",
   "name": "python",
   "nbconvert_exporter": "python",
   "pygments_lexer": "ipython3",
   "version": "3.11.10"
  }
 },
 "nbformat": 4,
 "nbformat_minor": 2
}
